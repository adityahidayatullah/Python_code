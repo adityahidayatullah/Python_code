{
  "nbformat": 4,
  "nbformat_minor": 0,
  "metadata": {
    "colab": {
      "name": "Assignment 3 - Basic Python - Aditya Hidayatullah",
      "provenance": [],
      "mount_file_id": "1aw4uloNOfclgZpEZXZpbZB5SrLZ-We0J",
      "authorship_tag": "ABX9TyOiO4V4jY3czgVxn3uKEEfw",
      "include_colab_link": true
    },
    "kernelspec": {
      "name": "python3",
      "display_name": "Python 3"
    },
    "language_info": {
      "name": "python"
    }
  },
  "cells": [
    {
      "cell_type": "markdown",
      "metadata": {
        "id": "view-in-github",
        "colab_type": "text"
      },
      "source": [
        "<a href=\"https://colab.research.google.com/github/adityahidayatullah/Python_code/blob/main/Assignment_3_Basic_Python_Aditya_Hidayatullah.ipynb\" target=\"_parent\"><img src=\"https://colab.research.google.com/assets/colab-badge.svg\" alt=\"Open In Colab\"/></a>"
      ]
    },
    {
      "cell_type": "code",
      "execution_count": null,
      "metadata": {
        "colab": {
          "base_uri": "https://localhost:8080/"
        },
        "id": "slEhnbfgPJs-",
        "outputId": "491f74bf-6bb5-4263-a8ae-81ce8def38e5"
      },
      "outputs": [
        {
          "output_type": "stream",
          "name": "stdout",
          "text": [
            "Siapa nama kamu ? Luhut\n",
            "Hai  Luhut\n"
          ]
        }
      ],
      "source": [
        "nama = input(\"Siapa nama kamu ? \")\n",
        "print(\"Hai \", nama)"
      ]
    },
    {
      "cell_type": "code",
      "source": [
        "def luas_bidang(panjang, lebar):\n",
        "    luas = (panjang * lebar) \n",
        "    luas_hektar = (panjang * lebar)/10000 \n",
        "    print(\"Luas Meter Persegi: %s\" % luas)\n",
        "    print(\"Luas Hektar: %s\" % luas_hektar);\n",
        "\n",
        "luas_bidang(100,100)"
      ],
      "metadata": {
        "colab": {
          "base_uri": "https://localhost:8080/"
        },
        "id": "fTjO8e_zVwJa",
        "outputId": "2b3d620b-e1ae-4092-8f4d-fa7bdf844c97"
      },
      "execution_count": null,
      "outputs": [
        {
          "output_type": "stream",
          "name": "stdout",
          "text": [
            "Luas Meter Persegi: 10000\n",
            "Luas Hektar: 1.0\n"
          ]
        }
      ]
    },
    {
      "cell_type": "code",
      "source": [
        "\n",
        "i, N, jum =0, 0, 0\n",
        "N = int(input(\"masukan angka: \"))\n",
        "while True:\n",
        "  jum += i\n",
        "  i = i+1\n",
        "  if i> N:\n",
        "    break\n",
        "  \n",
        "print(\"jumlah: \", jum)"
      ],
      "metadata": {
        "colab": {
          "base_uri": "https://localhost:8080/"
        },
        "id": "xywceXkOYCwk",
        "outputId": "8fc4e99f-1ce2-4b78-87ef-ef86dc3cb781"
      },
      "execution_count": null,
      "outputs": [
        {
          "output_type": "stream",
          "name": "stdout",
          "text": [
            "masukan angka: 10\n",
            "jumlah:  55\n"
          ]
        }
      ]
    },
    {
      "cell_type": "code",
      "source": [
        "def luas_segitiga():\n",
        "  Alas = int(input('Nilai Alas: '))\n",
        "  Tinggi = int(input('Nilai Tinggi: '))\n",
        "  luas = (Alas * Tinggi) / 2\n",
        "  print(\"Nilai Luas : \", luas);\n"
      ],
      "metadata": {
        "id": "MiZoSDZHeUTp"
      },
      "execution_count": null,
      "outputs": []
    },
    {
      "cell_type": "code",
      "source": [
        "luas_segitiga()"
      ],
      "metadata": {
        "colab": {
          "base_uri": "https://localhost:8080/"
        },
        "id": "cDHQ05WBzho4",
        "outputId": "a534d8a3-ec21-4ba2-f01f-8c487bdc6340"
      },
      "execution_count": null,
      "outputs": [
        {
          "output_type": "stream",
          "name": "stdout",
          "text": [
            "Nilai Alas: 30\n",
            "Nilai Tinggi: 30\n",
            "Nilai Luas :  450.0\n"
          ]
        }
      ]
    },
    {
      "cell_type": "code",
      "source": [
        "\n",
        "def Magnitude() :\n",
        "  mag = float(input(\"Berapa Magnitude Gempa: \"))\n",
        "  if mag < float(2.0):\n",
        "    print(\"Micro\")\n",
        "  elif mag <= float(3.9):\n",
        "    print(\"Minor\")\n",
        "  elif mag <= float(4.9):\n",
        "    print(\"Light\")\n",
        "  elif mag <= float(5.9):\n",
        "    print(\"Moderate\")\n",
        "  elif mag <= float(6.9):\n",
        "    print(\"Strong\")\n",
        "  elif mag <= float(7.9):\n",
        "    print(\"Major\")\n",
        "  elif mag <= float(9.9):\n",
        "    print(\"Great\")\n",
        "  else:\n",
        "    print(\"Masive\") \n",
        "\n",
        "\n",
        "Magnitude()\n"
      ],
      "metadata": {
        "colab": {
          "base_uri": "https://localhost:8080/"
        },
        "id": "C4OTzDvdeYFP",
        "outputId": "9e4ad4ff-d549-470d-ade8-22e01971a29f"
      },
      "execution_count": null,
      "outputs": [
        {
          "output_type": "stream",
          "name": "stdout",
          "text": [
            "Berapa Magnitude Gempa: 5.5\n",
            "Moderate\n"
          ]
        }
      ]
    },
    {
      "cell_type": "code",
      "source": [
        ""
      ],
      "metadata": {
        "id": "5lV_NrcesCud"
      },
      "execution_count": null,
      "outputs": []
    },
    {
      "cell_type": "code",
      "source": [
        "import requests\n",
        "url = 'https://raw.githubusercontent.com/hadimaster65555/dataset_for_teaching/main/dataset/linear_regression_simulation_data/linear-regression.csv'\n",
        "page = requests.get(url)\n"
      ],
      "metadata": {
        "id": "p-HROFruLv9Q"
      },
      "execution_count": null,
      "outputs": []
    },
    {
      "cell_type": "code",
      "source": [
        "print(page.text)"
      ],
      "metadata": {
        "id": "xKQrQQyQQUPj"
      },
      "execution_count": null,
      "outputs": []
    },
    {
      "cell_type": "code",
      "source": [
        "import pandas as pd\n",
        "\n",
        "data = pd.read_csv('/Data_Regresi1.csv', delimiter = ';')"
      ],
      "metadata": {
        "id": "zmDmk-C_OA49"
      },
      "execution_count": null,
      "outputs": []
    },
    {
      "cell_type": "code",
      "source": [
        "data.head(3)"
      ],
      "metadata": {
        "colab": {
          "base_uri": "https://localhost:8080/",
          "height": 143
        },
        "id": "pB-lyxhSSIQ5",
        "outputId": "98377202-161e-4605-83fe-146c2f0e1a49"
      },
      "execution_count": null,
      "outputs": [
        {
          "output_type": "execute_result",
          "data": {
            "text/plain": [
              "          X        Y\n",
              "0   0,58705  5,79555\n",
              "1  -0,15098  3,53372\n",
              "2  -0,24805  3,22805"
            ],
            "text/html": [
              "\n",
              "  <div id=\"df-69ead393-8e8d-4b80-af03-30806c09c5d9\">\n",
              "    <div class=\"colab-df-container\">\n",
              "      <div>\n",
              "<style scoped>\n",
              "    .dataframe tbody tr th:only-of-type {\n",
              "        vertical-align: middle;\n",
              "    }\n",
              "\n",
              "    .dataframe tbody tr th {\n",
              "        vertical-align: top;\n",
              "    }\n",
              "\n",
              "    .dataframe thead th {\n",
              "        text-align: right;\n",
              "    }\n",
              "</style>\n",
              "<table border=\"1\" class=\"dataframe\">\n",
              "  <thead>\n",
              "    <tr style=\"text-align: right;\">\n",
              "      <th></th>\n",
              "      <th>X</th>\n",
              "      <th>Y</th>\n",
              "    </tr>\n",
              "  </thead>\n",
              "  <tbody>\n",
              "    <tr>\n",
              "      <th>0</th>\n",
              "      <td>0,58705</td>\n",
              "      <td>5,79555</td>\n",
              "    </tr>\n",
              "    <tr>\n",
              "      <th>1</th>\n",
              "      <td>-0,15098</td>\n",
              "      <td>3,53372</td>\n",
              "    </tr>\n",
              "    <tr>\n",
              "      <th>2</th>\n",
              "      <td>-0,24805</td>\n",
              "      <td>3,22805</td>\n",
              "    </tr>\n",
              "  </tbody>\n",
              "</table>\n",
              "</div>\n",
              "      <button class=\"colab-df-convert\" onclick=\"convertToInteractive('df-69ead393-8e8d-4b80-af03-30806c09c5d9')\"\n",
              "              title=\"Convert this dataframe to an interactive table.\"\n",
              "              style=\"display:none;\">\n",
              "        \n",
              "  <svg xmlns=\"http://www.w3.org/2000/svg\" height=\"24px\"viewBox=\"0 0 24 24\"\n",
              "       width=\"24px\">\n",
              "    <path d=\"M0 0h24v24H0V0z\" fill=\"none\"/>\n",
              "    <path d=\"M18.56 5.44l.94 2.06.94-2.06 2.06-.94-2.06-.94-.94-2.06-.94 2.06-2.06.94zm-11 1L8.5 8.5l.94-2.06 2.06-.94-2.06-.94L8.5 2.5l-.94 2.06-2.06.94zm10 10l.94 2.06.94-2.06 2.06-.94-2.06-.94-.94-2.06-.94 2.06-2.06.94z\"/><path d=\"M17.41 7.96l-1.37-1.37c-.4-.4-.92-.59-1.43-.59-.52 0-1.04.2-1.43.59L10.3 9.45l-7.72 7.72c-.78.78-.78 2.05 0 2.83L4 21.41c.39.39.9.59 1.41.59.51 0 1.02-.2 1.41-.59l7.78-7.78 2.81-2.81c.8-.78.8-2.07 0-2.86zM5.41 20L4 18.59l7.72-7.72 1.47 1.35L5.41 20z\"/>\n",
              "  </svg>\n",
              "      </button>\n",
              "      \n",
              "  <style>\n",
              "    .colab-df-container {\n",
              "      display:flex;\n",
              "      flex-wrap:wrap;\n",
              "      gap: 12px;\n",
              "    }\n",
              "\n",
              "    .colab-df-convert {\n",
              "      background-color: #E8F0FE;\n",
              "      border: none;\n",
              "      border-radius: 50%;\n",
              "      cursor: pointer;\n",
              "      display: none;\n",
              "      fill: #1967D2;\n",
              "      height: 32px;\n",
              "      padding: 0 0 0 0;\n",
              "      width: 32px;\n",
              "    }\n",
              "\n",
              "    .colab-df-convert:hover {\n",
              "      background-color: #E2EBFA;\n",
              "      box-shadow: 0px 1px 2px rgba(60, 64, 67, 0.3), 0px 1px 3px 1px rgba(60, 64, 67, 0.15);\n",
              "      fill: #174EA6;\n",
              "    }\n",
              "\n",
              "    [theme=dark] .colab-df-convert {\n",
              "      background-color: #3B4455;\n",
              "      fill: #D2E3FC;\n",
              "    }\n",
              "\n",
              "    [theme=dark] .colab-df-convert:hover {\n",
              "      background-color: #434B5C;\n",
              "      box-shadow: 0px 1px 3px 1px rgba(0, 0, 0, 0.15);\n",
              "      filter: drop-shadow(0px 1px 2px rgba(0, 0, 0, 0.3));\n",
              "      fill: #FFFFFF;\n",
              "    }\n",
              "  </style>\n",
              "\n",
              "      <script>\n",
              "        const buttonEl =\n",
              "          document.querySelector('#df-69ead393-8e8d-4b80-af03-30806c09c5d9 button.colab-df-convert');\n",
              "        buttonEl.style.display =\n",
              "          google.colab.kernel.accessAllowed ? 'block' : 'none';\n",
              "\n",
              "        async function convertToInteractive(key) {\n",
              "          const element = document.querySelector('#df-69ead393-8e8d-4b80-af03-30806c09c5d9');\n",
              "          const dataTable =\n",
              "            await google.colab.kernel.invokeFunction('convertToInteractive',\n",
              "                                                     [key], {});\n",
              "          if (!dataTable) return;\n",
              "\n",
              "          const docLinkHtml = 'Like what you see? Visit the ' +\n",
              "            '<a target=\"_blank\" href=https://colab.research.google.com/notebooks/data_table.ipynb>data table notebook</a>'\n",
              "            + ' to learn more about interactive tables.';\n",
              "          element.innerHTML = '';\n",
              "          dataTable['output_type'] = 'display_data';\n",
              "          await google.colab.output.renderOutput(dataTable, element);\n",
              "          const docLink = document.createElement('div');\n",
              "          docLink.innerHTML = docLinkHtml;\n",
              "          element.appendChild(docLink);\n",
              "        }\n",
              "      </script>\n",
              "    </div>\n",
              "  </div>\n",
              "  "
            ]
          },
          "metadata": {},
          "execution_count": 204
        }
      ]
    },
    {
      "cell_type": "code",
      "source": [
        "df = pd.DataFrame(data)\n",
        "X = df['X']\n",
        "Y = df['Y']\n",
        "\n",
        "import matplotlib.pyplot as plt # import matplotlib\n",
        "plt.plot(X,Y,'o', label = 'Nilai Acak') # Inisiasi plot\n",
        "plt.xlabel('nilai x') # Label x\n",
        "plt.ylabel('nilai y') # Label y\n",
        "plt.title('Korelasi antara X dan Y') # Memberi judul\n",
        "plt.legend() # Menambah legend\n",
        "plt.show() # Tunjukkan plot\n"
      ],
      "metadata": {
        "colab": {
          "base_uri": "https://localhost:8080/",
          "height": 295
        },
        "id": "W-ZrgYVxWePt",
        "outputId": "9a7191d1-a270-4b3e-d6dd-d34d9b3a62b0"
      },
      "execution_count": null,
      "outputs": [
        {
          "output_type": "display_data",
          "data": {
            "text/plain": [
              "<Figure size 432x288 with 1 Axes>"
            ],
            "image/png": "[encoded data removed]"
          },
          "metadata": {
            "needs_background": "light"
          }
        }
      ]
    },
    {
      "cell_type": "code",
      "source": [
        "import numpy as np \n",
        "X_mat=np.vstack((np.ones(len(X)), X)).T\n",
        "beta_hat = np.linalg.inv(X_mat.T.dot(X_mat)).dot(X_mat.T).dot(Y)\n",
        "yhat = X_mat.dot(beta_hat)"
      ],
      "metadata": {
        "id": "v_SCHUmIbT-D"
      },
      "execution_count": null,
      "outputs": []
    },
    {
      "cell_type": "code",
      "source": [
        "print(beta_hat)\n"
      ],
      "metadata": {
        "colab": {
          "base_uri": "https://localhost:8080/"
        },
        "id": "AK-Outr8chOI",
        "outputId": "fb0b2acc-6f35-4347-d8b2-a218a5ff7c68"
      },
      "execution_count": null,
      "outputs": [
        {
          "output_type": "stream",
          "name": "stdout",
          "text": [
            "[399.18763347 298.06019093]\n"
          ]
        }
      ]
    },
    {
      "cell_type": "code",
      "source": [
        "plt.plot(X,Y,'o', label = 'Nilai acak') # inisiasi plot\n",
        "plt.plot(X, yhat, color = 'red',label= 'Garis fit') # Menambah plot lain\n",
        "# Menambah teks pada x=0.8 dan y=0.5, berukuran 12 dan berwarna biru\n",
        "plt.text(0.5,200, r\"$\\beta_0 = 3.992$\", fontsize=14, color=\"b\")\n",
        "# Menambah teks pada x=0.8 dan y=0.3, berukuran 12 dan berwarna blue\n",
        "plt.text(0.5,150, r\"$\\beta_1 = 2.981$\", fontsize=14, color=\"b\")\n",
        "plt.xlabel('Nilai X') # menambah/mengganti label pada nilai x\n",
        "plt.ylabel('Nilai Y') # menambah/mengganti label pada nilai y\n",
        "plt.legend() # Menambah legend\n",
        "plt.show()"
      ],
      "metadata": {
        "id": "pZeyvIiHi8cm",
        "outputId": "b4e87b0a-94aa-47a5-d275-556810a4bb59",
        "colab": {
          "base_uri": "https://localhost:8080/",
          "height": 279
        }
      },
      "execution_count": null,
      "outputs": [
        {
          "output_type": "display_data",
          "data": {
            "text/plain": [
              "<Figure size 432x288 with 1 Axes>"
            ],
            "image/png": "[encoded data removed]"
          },
          "metadata": {
            "needs_background": "light"
          }
        }
      ]
    }
  ]
}